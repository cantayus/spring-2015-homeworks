{
 "metadata": {
  "name": "",
  "signature": "sha256:22a7945b10cb83a4df35fb130ff7d63d6cffe87b210afc247edb211a5903d804"
 },
 "nbformat": 3,
 "nbformat_minor": 0,
 "worksheets": []
}